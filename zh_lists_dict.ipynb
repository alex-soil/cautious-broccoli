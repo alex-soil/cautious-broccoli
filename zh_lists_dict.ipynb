{
 "cells": [
  {
   "cell_type": "code",
   "execution_count": 1,
   "id": "acb1a167",
   "metadata": {},
   "outputs": [],
   "source": [
    "import pandas as pd"
   ]
  },
  {
   "cell_type": "code",
   "execution_count": 2,
   "id": "a4b1d47c",
   "metadata": {},
   "outputs": [],
   "source": [
    "my_list = [1,2,3]"
   ]
  },
  {
   "cell_type": "code",
   "execution_count": 3,
   "id": "43925330",
   "metadata": {},
   "outputs": [
    {
     "data": {
      "text/plain": [
       "3"
      ]
     },
     "execution_count": 3,
     "metadata": {},
     "output_type": "execute_result"
    }
   ],
   "source": [
    "len(my_list)"
   ]
  },
  {
   "cell_type": "code",
   "execution_count": 4,
   "id": "3f96ffca",
   "metadata": {},
   "outputs": [],
   "source": [
    "mylist1=[\"one\",\"two\",\"three\"]"
   ]
  },
  {
   "cell_type": "code",
   "execution_count": 7,
   "id": "233378d4",
   "metadata": {},
   "outputs": [
    {
     "data": {
      "text/plain": [
       "['two', 'three']"
      ]
     },
     "execution_count": 7,
     "metadata": {},
     "output_type": "execute_result"
    }
   ],
   "source": [
    "mylist1[1:]"
   ]
  },
  {
   "cell_type": "code",
   "execution_count": 8,
   "id": "40eeded5",
   "metadata": {},
   "outputs": [],
   "source": [
    "another_list=[1,2,3]"
   ]
  },
  {
   "cell_type": "code",
   "execution_count": 10,
   "id": "37156af1",
   "metadata": {},
   "outputs": [],
   "source": [
    "newlist=another_list+mylist1"
   ]
  },
  {
   "cell_type": "code",
   "execution_count": 11,
   "id": "49f0347f",
   "metadata": {},
   "outputs": [
    {
     "data": {
      "text/plain": [
       "[1, 2, 3, 'one', 'two', 'three']"
      ]
     },
     "execution_count": 11,
     "metadata": {},
     "output_type": "execute_result"
    }
   ],
   "source": [
    "newlist"
   ]
  },
  {
   "cell_type": "code",
   "execution_count": 12,
   "id": "75b29969",
   "metadata": {},
   "outputs": [],
   "source": [
    "newlist[0]=\"ONEEE\""
   ]
  },
  {
   "cell_type": "code",
   "execution_count": 13,
   "id": "dc3fe9f1",
   "metadata": {},
   "outputs": [
    {
     "data": {
      "text/plain": [
       "['ONEEE', 2, 3, 'one', 'two', 'three']"
      ]
     },
     "execution_count": 13,
     "metadata": {},
     "output_type": "execute_result"
    }
   ],
   "source": [
    "newlist"
   ]
  },
  {
   "cell_type": "code",
   "execution_count": 14,
   "id": "04ee02dc",
   "metadata": {},
   "outputs": [],
   "source": [
    "newlist.append(\"four\")"
   ]
  },
  {
   "cell_type": "code",
   "execution_count": 15,
   "id": "27326b6d",
   "metadata": {},
   "outputs": [
    {
     "data": {
      "text/plain": [
       "['ONEEE', 2, 3, 'one', 'two', 'three', 'four']"
      ]
     },
     "execution_count": 15,
     "metadata": {},
     "output_type": "execute_result"
    }
   ],
   "source": [
    "newlist"
   ]
  },
  {
   "cell_type": "code",
   "execution_count": 21,
   "id": "efefd793",
   "metadata": {},
   "outputs": [],
   "source": [
    "popped = newlist.pop()"
   ]
  },
  {
   "cell_type": "code",
   "execution_count": 22,
   "id": "4378d0bf",
   "metadata": {},
   "outputs": [
    {
     "data": {
      "text/plain": [
       "'three'"
      ]
     },
     "execution_count": 22,
     "metadata": {},
     "output_type": "execute_result"
    }
   ],
   "source": [
    "popped"
   ]
  },
  {
   "cell_type": "code",
   "execution_count": 23,
   "id": "9fe561af",
   "metadata": {},
   "outputs": [
    {
     "data": {
      "text/plain": [
       "['ONEEE', 2, 3, 'one', 'two']"
      ]
     },
     "execution_count": 23,
     "metadata": {},
     "output_type": "execute_result"
    }
   ],
   "source": [
    "newlist"
   ]
  },
  {
   "cell_type": "code",
   "execution_count": 24,
   "id": "cecf41d4",
   "metadata": {},
   "outputs": [
    {
     "data": {
      "text/plain": [
       "'ONEEE'"
      ]
     },
     "execution_count": 24,
     "metadata": {},
     "output_type": "execute_result"
    }
   ],
   "source": [
    "newlist.pop(0)"
   ]
  },
  {
   "cell_type": "code",
   "execution_count": 25,
   "id": "c9a09cf4",
   "metadata": {},
   "outputs": [],
   "source": [
    "abclist=[\"a\", \"c\",\"b\",\"x\"]\n",
    "numlist=[4,3,8,2]"
   ]
  },
  {
   "cell_type": "code",
   "execution_count": 27,
   "id": "6e26c97b",
   "metadata": {},
   "outputs": [
    {
     "data": {
      "text/plain": [
       "['a', 'b', 'c', 'x']"
      ]
     },
     "execution_count": 27,
     "metadata": {},
     "output_type": "execute_result"
    }
   ],
   "source": [
    "abclist.sort()  #sort not returing anything, no need to save of do INPLACE\n",
    "abclist"
   ]
  },
  {
   "cell_type": "code",
   "execution_count": 28,
   "id": "67f77888",
   "metadata": {},
   "outputs": [
    {
     "data": {
      "text/plain": [
       "[2, 3, 4, 8]"
      ]
     },
     "execution_count": 28,
     "metadata": {},
     "output_type": "execute_result"
    }
   ],
   "source": [
    "numlist.sort()\n",
    "numlist"
   ]
  },
  {
   "cell_type": "code",
   "execution_count": 30,
   "id": "c8846bc6",
   "metadata": {},
   "outputs": [],
   "source": [
    "numlist.reverse()"
   ]
  },
  {
   "cell_type": "code",
   "execution_count": 31,
   "id": "a0059250",
   "metadata": {},
   "outputs": [
    {
     "data": {
      "text/plain": [
       "[8, 4, 3, 2]"
      ]
     },
     "execution_count": 31,
     "metadata": {},
     "output_type": "execute_result"
    }
   ],
   "source": [
    "numlist"
   ]
  },
  {
   "cell_type": "code",
   "execution_count": null,
   "id": "47f18c9e",
   "metadata": {},
   "outputs": [],
   "source": [
    "###DICTIONARY"
   ]
  },
  {
   "cell_type": "code",
   "execution_count": 33,
   "id": "c8e59236",
   "metadata": {},
   "outputs": [
    {
     "data": {
      "text/plain": [
       "'value1'"
      ]
     },
     "execution_count": 33,
     "metadata": {},
     "output_type": "execute_result"
    }
   ],
   "source": [
    "mydict={\"key1\":\"value1\"}\n",
    "mydict[\"key1\"]\n"
   ]
  },
  {
   "cell_type": "code",
   "execution_count": 40,
   "id": "ed2ffc50",
   "metadata": {},
   "outputs": [
    {
     "data": {
      "text/plain": [
       "'2$'"
      ]
     },
     "execution_count": 40,
     "metadata": {},
     "output_type": "execute_result"
    }
   ],
   "source": [
    "prices={\"candy\":\"1$\", \"icecream\":\"2$\", \"apple\":3}\n",
    "prices[\"icecream\"]"
   ]
  },
  {
   "cell_type": "code",
   "execution_count": 41,
   "id": "3b439093",
   "metadata": {},
   "outputs": [
    {
     "data": {
      "text/plain": [
       "3"
      ]
     },
     "execution_count": 41,
     "metadata": {},
     "output_type": "execute_result"
    }
   ],
   "source": [
    "prices[\"apple\"]"
   ]
  },
  {
   "cell_type": "code",
   "execution_count": 47,
   "id": "537932e6",
   "metadata": {},
   "outputs": [],
   "source": [
    "d={\"key1\":11,\"k2\": [0,1,3], \"k3\": {\"anotherD\": 100}}"
   ]
  },
  {
   "cell_type": "code",
   "execution_count": 48,
   "id": "4f14ed77",
   "metadata": {},
   "outputs": [
    {
     "data": {
      "text/plain": [
       "[0, 1, 3]"
      ]
     },
     "execution_count": 48,
     "metadata": {},
     "output_type": "execute_result"
    }
   ],
   "source": [
    "d[\"k2\"]"
   ]
  },
  {
   "cell_type": "code",
   "execution_count": 49,
   "id": "496c45be",
   "metadata": {},
   "outputs": [
    {
     "data": {
      "text/plain": [
       "{'anotherD': 100}"
      ]
     },
     "execution_count": 49,
     "metadata": {},
     "output_type": "execute_result"
    }
   ],
   "source": [
    "d[\"k3\"]"
   ]
  },
  {
   "cell_type": "code",
   "execution_count": 50,
   "id": "b5dbe202",
   "metadata": {},
   "outputs": [
    {
     "data": {
      "text/plain": [
       "100"
      ]
     },
     "execution_count": 50,
     "metadata": {},
     "output_type": "execute_result"
    }
   ],
   "source": [
    "d[\"k3\"][\"anotherD\"]"
   ]
  },
  {
   "cell_type": "code",
   "execution_count": 52,
   "id": "8d6e0d1c",
   "metadata": {},
   "outputs": [
    {
     "data": {
      "text/plain": [
       "3"
      ]
     },
     "execution_count": 52,
     "metadata": {},
     "output_type": "execute_result"
    }
   ],
   "source": [
    "d[\"k2\"][2]"
   ]
  },
  {
   "cell_type": "code",
   "execution_count": 53,
   "id": "3c05d729",
   "metadata": {},
   "outputs": [],
   "source": [
    "d2 = {\"key1\" : [\"a\",\"c\",\"k\"]}"
   ]
  },
  {
   "cell_type": "code",
   "execution_count": 54,
   "id": "cc46eb26",
   "metadata": {},
   "outputs": [
    {
     "data": {
      "text/plain": [
       "['a', 'c', 'k']"
      ]
     },
     "execution_count": 54,
     "metadata": {},
     "output_type": "execute_result"
    }
   ],
   "source": [
    "d2[\"key1\"]"
   ]
  },
  {
   "cell_type": "code",
   "execution_count": 55,
   "id": "d6696e0c",
   "metadata": {},
   "outputs": [
    {
     "data": {
      "text/plain": [
       "'c'"
      ]
     },
     "execution_count": 55,
     "metadata": {},
     "output_type": "execute_result"
    }
   ],
   "source": [
    "d2[\"key1\"][1]"
   ]
  },
  {
   "cell_type": "code",
   "execution_count": 56,
   "id": "f4a59081",
   "metadata": {},
   "outputs": [],
   "source": [
    "newdict=d2[\"key1\"][1]"
   ]
  },
  {
   "cell_type": "code",
   "execution_count": 58,
   "id": "e223b3e7",
   "metadata": {},
   "outputs": [
    {
     "data": {
      "text/plain": [
       "'C'"
      ]
     },
     "execution_count": 58,
     "metadata": {},
     "output_type": "execute_result"
    }
   ],
   "source": [
    "newdict.upper()"
   ]
  },
  {
   "cell_type": "code",
   "execution_count": 59,
   "id": "3fe7d602",
   "metadata": {},
   "outputs": [
    {
     "data": {
      "text/plain": [
       "'C'"
      ]
     },
     "execution_count": 59,
     "metadata": {},
     "output_type": "execute_result"
    }
   ],
   "source": [
    "d2[\"key1\"][1].upper()"
   ]
  },
  {
   "cell_type": "code",
   "execution_count": 60,
   "id": "31443842",
   "metadata": {},
   "outputs": [],
   "source": [
    "d3={\"k1\":100, \"k2\":100, \"k3\":100}"
   ]
  },
  {
   "cell_type": "code",
   "execution_count": 61,
   "id": "ad555333",
   "metadata": {},
   "outputs": [],
   "source": [
    "d3[\"k4\"]= 300"
   ]
  },
  {
   "cell_type": "code",
   "execution_count": 62,
   "id": "cc50bb24",
   "metadata": {},
   "outputs": [
    {
     "data": {
      "text/plain": [
       "{'k1': 100, 'k2': 100, 'k3': 100, 'k4': 300}"
      ]
     },
     "execution_count": 62,
     "metadata": {},
     "output_type": "execute_result"
    }
   ],
   "source": [
    "d3"
   ]
  },
  {
   "cell_type": "code",
   "execution_count": 63,
   "id": "118cc04e",
   "metadata": {},
   "outputs": [],
   "source": [
    "d3[\"key0\"]=\"newValue\""
   ]
  },
  {
   "cell_type": "code",
   "execution_count": 64,
   "id": "69a029f9",
   "metadata": {},
   "outputs": [
    {
     "data": {
      "text/plain": [
       "{'k1': 100, 'k2': 100, 'k3': 100, 'k4': 300, 'key0': 'newValue'}"
      ]
     },
     "execution_count": 64,
     "metadata": {},
     "output_type": "execute_result"
    }
   ],
   "source": [
    "d3"
   ]
  },
  {
   "cell_type": "code",
   "execution_count": 65,
   "id": "74514f4c",
   "metadata": {},
   "outputs": [
    {
     "data": {
      "text/plain": [
       "dict_keys(['k1', 'k2', 'k3', 'k4', 'key0'])"
      ]
     },
     "execution_count": 65,
     "metadata": {},
     "output_type": "execute_result"
    }
   ],
   "source": [
    "d3.keys()"
   ]
  },
  {
   "cell_type": "code",
   "execution_count": 67,
   "id": "9d82a39f",
   "metadata": {},
   "outputs": [
    {
     "data": {
      "text/plain": [
       "dict_values([100, 100, 100, 300, 'newValue'])"
      ]
     },
     "execution_count": 67,
     "metadata": {},
     "output_type": "execute_result"
    }
   ],
   "source": [
    "d3.values()"
   ]
  },
  {
   "cell_type": "code",
   "execution_count": 68,
   "id": "2ab91eb8",
   "metadata": {},
   "outputs": [
    {
     "data": {
      "text/plain": [
       "dict_items([('k1', 100), ('k2', 100), ('k3', 100), ('k4', 300), ('key0', 'newValue')])"
      ]
     },
     "execution_count": 68,
     "metadata": {},
     "output_type": "execute_result"
    }
   ],
   "source": [
    "d3.items()"
   ]
  },
  {
   "cell_type": "code",
   "execution_count": null,
   "id": "3b30da28",
   "metadata": {},
   "outputs": [],
   "source": []
  },
  {
   "cell_type": "code",
   "execution_count": null,
   "id": "f86ed751",
   "metadata": {},
   "outputs": [],
   "source": []
  },
  {
   "cell_type": "code",
   "execution_count": null,
   "id": "256fcc2c",
   "metadata": {},
   "outputs": [],
   "source": []
  },
  {
   "cell_type": "code",
   "execution_count": null,
   "id": "16a73f00",
   "metadata": {},
   "outputs": [],
   "source": []
  },
  {
   "cell_type": "code",
   "execution_count": null,
   "id": "8a0d49bb",
   "metadata": {},
   "outputs": [],
   "source": []
  },
  {
   "cell_type": "code",
   "execution_count": null,
   "id": "6ddcced4",
   "metadata": {},
   "outputs": [],
   "source": []
  }
 ],
 "metadata": {
  "kernelspec": {
   "display_name": "Python 3 (ipykernel)",
   "language": "python",
   "name": "python3"
  },
  "language_info": {
   "codemirror_mode": {
    "name": "ipython",
    "version": 3
   },
   "file_extension": ".py",
   "mimetype": "text/x-python",
   "name": "python",
   "nbconvert_exporter": "python",
   "pygments_lexer": "ipython3",
   "version": "3.11.0"
  }
 },
 "nbformat": 4,
 "nbformat_minor": 5
}
