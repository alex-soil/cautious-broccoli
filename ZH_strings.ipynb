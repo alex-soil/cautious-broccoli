{
 "cells": [
  {
   "cell_type": "code",
   "execution_count": 1,
   "id": "7ab32005",
   "metadata": {},
   "outputs": [],
   "source": [
    "import pandas as pd\n"
   ]
  },
  {
   "cell_type": "code",
   "execution_count": 2,
   "id": "70f133b0",
   "metadata": {},
   "outputs": [
    {
     "data": {
      "text/plain": [
       "5"
      ]
     },
     "execution_count": 2,
     "metadata": {},
     "output_type": "execute_result"
    }
   ],
   "source": [
    "len(\"Hello\")"
   ]
  },
  {
   "cell_type": "code",
   "execution_count": 3,
   "id": "62ea6c64",
   "metadata": {},
   "outputs": [],
   "source": [
    "mystering= \"Hello World\""
   ]
  },
  {
   "cell_type": "code",
   "execution_count": 4,
   "id": "e9820639",
   "metadata": {},
   "outputs": [
    {
     "data": {
      "text/plain": [
       "'Hello World'"
      ]
     },
     "execution_count": 4,
     "metadata": {},
     "output_type": "execute_result"
    }
   ],
   "source": [
    "mystering\n"
   ]
  },
  {
   "cell_type": "code",
   "execution_count": 5,
   "id": "833e52e4",
   "metadata": {},
   "outputs": [
    {
     "data": {
      "text/plain": [
       "'H'"
      ]
     },
     "execution_count": 5,
     "metadata": {},
     "output_type": "execute_result"
    }
   ],
   "source": [
    "mystering[0]"
   ]
  },
  {
   "cell_type": "code",
   "execution_count": 6,
   "id": "eaba24a5",
   "metadata": {},
   "outputs": [
    {
     "data": {
      "text/plain": [
       "'r'"
      ]
     },
     "execution_count": 6,
     "metadata": {},
     "output_type": "execute_result"
    }
   ],
   "source": [
    "mystering[8]"
   ]
  },
  {
   "cell_type": "code",
   "execution_count": 7,
   "id": "30598d9a",
   "metadata": {},
   "outputs": [
    {
     "data": {
      "text/plain": [
       "'r'"
      ]
     },
     "execution_count": 7,
     "metadata": {},
     "output_type": "execute_result"
    }
   ],
   "source": [
    "mystering[-3]"
   ]
  },
  {
   "cell_type": "code",
   "execution_count": 8,
   "id": "16956a8a",
   "metadata": {},
   "outputs": [
    {
     "data": {
      "text/plain": [
       "'d'"
      ]
     },
     "execution_count": 8,
     "metadata": {},
     "output_type": "execute_result"
    }
   ],
   "source": [
    "mystering [-1] #last letter"
   ]
  },
  {
   "cell_type": "code",
   "execution_count": 9,
   "id": "f2bc19fb",
   "metadata": {},
   "outputs": [
    {
     "data": {
      "text/plain": [
       "'abcdefghijk'"
      ]
     },
     "execution_count": 9,
     "metadata": {},
     "output_type": "execute_result"
    }
   ],
   "source": [
    "mystering = \"abcdefghijk\"\n",
    "mystering"
   ]
  },
  {
   "cell_type": "code",
   "execution_count": 10,
   "id": "c73d9a21",
   "metadata": {},
   "outputs": [
    {
     "data": {
      "text/plain": [
       "'cdefghijk'"
      ]
     },
     "execution_count": 10,
     "metadata": {},
     "output_type": "execute_result"
    }
   ],
   "source": [
    "mystering[2:]"
   ]
  },
  {
   "cell_type": "code",
   "execution_count": 11,
   "id": "92e32436",
   "metadata": {},
   "outputs": [
    {
     "data": {
      "text/plain": [
       "'abc'"
      ]
     },
     "execution_count": 11,
     "metadata": {},
     "output_type": "execute_result"
    }
   ],
   "source": [
    "mystering[:3]"
   ]
  },
  {
   "cell_type": "code",
   "execution_count": 12,
   "id": "3b293257",
   "metadata": {},
   "outputs": [
    {
     "data": {
      "text/plain": [
       "'def'"
      ]
     },
     "execution_count": 12,
     "metadata": {},
     "output_type": "execute_result"
    }
   ],
   "source": [
    "mystering[3:6]"
   ]
  },
  {
   "cell_type": "code",
   "execution_count": 13,
   "id": "828bc43b",
   "metadata": {},
   "outputs": [
    {
     "data": {
      "text/plain": [
       "'cd'"
      ]
     },
     "execution_count": 13,
     "metadata": {},
     "output_type": "execute_result"
    }
   ],
   "source": [
    "mystering[2:4]"
   ]
  },
  {
   "cell_type": "code",
   "execution_count": 14,
   "id": "4187f1e6",
   "metadata": {},
   "outputs": [
    {
     "data": {
      "text/plain": [
       "'adgj'"
      ]
     },
     "execution_count": 14,
     "metadata": {},
     "output_type": "execute_result"
    }
   ],
   "source": [
    "mystering[::3]"
   ]
  },
  {
   "cell_type": "code",
   "execution_count": 15,
   "id": "51dd7cbf",
   "metadata": {},
   "outputs": [],
   "source": [
    "mystring = \"mystring\" # reverse string"
   ]
  },
  {
   "cell_type": "code",
   "execution_count": 16,
   "id": "5ac0652f",
   "metadata": {},
   "outputs": [
    {
     "data": {
      "text/plain": [
       "'gnirtsym'"
      ]
     },
     "execution_count": 16,
     "metadata": {},
     "output_type": "execute_result"
    }
   ],
   "source": [
    "mystring[::-1]"
   ]
  },
  {
   "cell_type": "code",
   "execution_count": 17,
   "id": "431abee0",
   "metadata": {},
   "outputs": [],
   "source": [
    "name = \"Sam\"\n",
    "lastletter = name[1:]"
   ]
  },
  {
   "cell_type": "code",
   "execution_count": 18,
   "id": "7b08f77f",
   "metadata": {},
   "outputs": [
    {
     "data": {
      "text/plain": [
       "'am'"
      ]
     },
     "execution_count": 18,
     "metadata": {},
     "output_type": "execute_result"
    }
   ],
   "source": [
    "lastletter"
   ]
  },
  {
   "cell_type": "code",
   "execution_count": 19,
   "id": "c11a2420",
   "metadata": {},
   "outputs": [
    {
     "data": {
      "text/plain": [
       "'Pam'"
      ]
     },
     "execution_count": 19,
     "metadata": {},
     "output_type": "execute_result"
    }
   ],
   "source": [
    "\"P\"+lastletter"
   ]
  },
  {
   "cell_type": "code",
   "execution_count": 20,
   "id": "b2708106",
   "metadata": {},
   "outputs": [],
   "source": [
    "x=\"Hello World\""
   ]
  },
  {
   "cell_type": "code",
   "execution_count": 21,
   "id": "fefb008c",
   "metadata": {},
   "outputs": [
    {
     "data": {
      "text/plain": [
       "'Hello World hi'"
      ]
     },
     "execution_count": 21,
     "metadata": {},
     "output_type": "execute_result"
    }
   ],
   "source": [
    "x+ \" hi\""
   ]
  },
  {
   "cell_type": "code",
   "execution_count": 22,
   "id": "c720f6e1",
   "metadata": {},
   "outputs": [],
   "source": [
    "letter = \"v\""
   ]
  },
  {
   "cell_type": "code",
   "execution_count": 23,
   "id": "ea33e349",
   "metadata": {},
   "outputs": [],
   "source": [
    "letter=letter*10"
   ]
  },
  {
   "cell_type": "code",
   "execution_count": 24,
   "id": "49c08bfa",
   "metadata": {},
   "outputs": [
    {
     "data": {
      "text/plain": [
       "'VVVVVVVVVV'"
      ]
     },
     "execution_count": 24,
     "metadata": {},
     "output_type": "execute_result"
    }
   ],
   "source": [
    "letter.upper()"
   ]
  },
  {
   "cell_type": "code",
   "execution_count": 25,
   "id": "c8f9f1b9",
   "metadata": {},
   "outputs": [
    {
     "data": {
      "text/plain": [
       "['', '', '', '', '', '', '', '', '', '', '']"
      ]
     },
     "execution_count": 25,
     "metadata": {},
     "output_type": "execute_result"
    }
   ],
   "source": [
    "letter.split(\"v\")"
   ]
  },
  {
   "cell_type": "code",
   "execution_count": 26,
   "id": "81f45889",
   "metadata": {},
   "outputs": [],
   "source": [
    "x=\"Hi this is a string\""
   ]
  },
  {
   "cell_type": "code",
   "execution_count": 27,
   "id": "34079861",
   "metadata": {},
   "outputs": [
    {
     "data": {
      "text/plain": [
       "['Hi', 'this', 'is', 'a', 'string']"
      ]
     },
     "execution_count": 27,
     "metadata": {},
     "output_type": "execute_result"
    }
   ],
   "source": [
    "x.split()"
   ]
  },
  {
   "cell_type": "code",
   "execution_count": 28,
   "id": "83a60269",
   "metadata": {},
   "outputs": [
    {
     "data": {
      "text/plain": [
       "['H', ' th', 's ', 's a str', 'ng']"
      ]
     },
     "execution_count": 28,
     "metadata": {},
     "output_type": "execute_result"
    }
   ],
   "source": [
    "x.split(\"i\")"
   ]
  },
  {
   "cell_type": "code",
   "execution_count": 29,
   "id": "2b98e19c",
   "metadata": {},
   "outputs": [
    {
     "name": "stdout",
     "output_type": "stream",
     "text": [
      "this is a sting Inserted\n"
     ]
    }
   ],
   "source": [
    "print(\"this is a sting {}\".format(\"Inserted\"))"
   ]
  },
  {
   "cell_type": "code",
   "execution_count": 30,
   "id": "91060a3c",
   "metadata": {},
   "outputs": [
    {
     "name": "stdout",
     "output_type": "stream",
     "text": [
      "The fox brown quick \n"
     ]
    }
   ],
   "source": [
    "print(\"The {} {} {} \".format(\"fox\", \"brown\", \"quick\"))"
   ]
  },
  {
   "cell_type": "code",
   "execution_count": 31,
   "id": "71c3be19",
   "metadata": {},
   "outputs": [
    {
     "name": "stdout",
     "output_type": "stream",
     "text": [
      "The quick brown fox\n"
     ]
    }
   ],
   "source": [
    "print(\"The {2} {1} {0}\".format(\"fox\", \"brown\", \"quick\"))"
   ]
  },
  {
   "cell_type": "code",
   "execution_count": 32,
   "id": "33221d55",
   "metadata": {
    "collapsed": true
   },
   "outputs": [
    {
     "ename": "IndexError",
     "evalue": "Replacement index 0 out of range for positional args tuple",
     "output_type": "error",
     "traceback": [
      "\u001b[1;31m---------------------------------------------------------------------------\u001b[0m",
      "\u001b[1;31mIndexError\u001b[0m                                Traceback (most recent call last)",
      "Cell \u001b[1;32mIn[32], line 1\u001b[0m\n\u001b[1;32m----> 1\u001b[0m \u001b[38;5;28mprint\u001b[39m(\u001b[38;5;124m\"\u001b[39m\u001b[38;5;124mThe \u001b[39m\u001b[38;5;132;01m{}\u001b[39;00m\u001b[38;5;124m \u001b[39m\u001b[38;5;132;01m{}\u001b[39;00m\u001b[38;5;124m \u001b[39m\u001b[38;5;132;01m{}\u001b[39;00m\u001b[38;5;124m \u001b[39m\u001b[38;5;124m\"\u001b[39m\u001b[38;5;241m.\u001b[39mformat(f\u001b[38;5;241m=\u001b[39m\u001b[38;5;124m\"\u001b[39m\u001b[38;5;124mfox\u001b[39m\u001b[38;5;124m\"\u001b[39m, b\u001b[38;5;241m=\u001b[39m\u001b[38;5;124m\"\u001b[39m\u001b[38;5;124mbrown\u001b[39m\u001b[38;5;124m\"\u001b[39m, q\u001b[38;5;241m=\u001b[39m\u001b[38;5;124m\"\u001b[39m\u001b[38;5;124mquick\u001b[39m\u001b[38;5;124m\"\u001b[39m))\n",
      "\u001b[1;31mIndexError\u001b[0m: Replacement index 0 out of range for positional args tuple"
     ]
    }
   ],
   "source": [
    "print(\"The {} {} {} \".format(f=\"fox\", b=\"brown\", q=\"quick\"))"
   ]
  },
  {
   "cell_type": "code",
   "execution_count": 33,
   "id": "84c02052",
   "metadata": {},
   "outputs": [],
   "source": [
    "name = \"Jose\""
   ]
  },
  {
   "cell_type": "code",
   "execution_count": 36,
   "id": "da8e758c",
   "metadata": {},
   "outputs": [
    {
     "name": "stdout",
     "output_type": "stream",
     "text": [
      "Hello, Jose\n"
     ]
    }
   ],
   "source": [
    "print(f\"Hello, {name}\")"
   ]
  },
  {
   "cell_type": "code",
   "execution_count": 37,
   "id": "2614eace",
   "metadata": {},
   "outputs": [],
   "source": [
    "result = 100/777"
   ]
  },
  {
   "cell_type": "code",
   "execution_count": 41,
   "id": "9f9822c9",
   "metadata": {},
   "outputs": [
    {
     "data": {
      "text/plain": [
       "0.1287001287001287"
      ]
     },
     "execution_count": 41,
     "metadata": {},
     "output_type": "execute_result"
    }
   ],
   "source": [
    "result"
   ]
  },
  {
   "cell_type": "code",
   "execution_count": 45,
   "id": "3f3acfcf",
   "metadata": {},
   "outputs": [
    {
     "name": "stdout",
     "output_type": "stream",
     "text": [
      "The result was 0.129\n"
     ]
    }
   ],
   "source": [
    "print(\"The result was {r:1.3f}\".format(r=result))"
   ]
  },
  {
   "cell_type": "code",
   "execution_count": 46,
   "id": "1c6fb3a8",
   "metadata": {},
   "outputs": [],
   "source": [
    "result1 = 104.12345"
   ]
  },
  {
   "cell_type": "code",
   "execution_count": 48,
   "id": "f7259ac8",
   "metadata": {},
   "outputs": [
    {
     "name": "stdout",
     "output_type": "stream",
     "text": [
      "The result was 104.12\n"
     ]
    }
   ],
   "source": [
    "print(\"The result was {r:1.2f}\".format(r=result1))"
   ]
  },
  {
   "cell_type": "code",
   "execution_count": 50,
   "id": "6c044c85",
   "metadata": {},
   "outputs": [],
   "source": [
    "name1=\"Mary\"  #f string formating"
   ]
  },
  {
   "cell_type": "code",
   "execution_count": 52,
   "id": "d1ad6f50",
   "metadata": {},
   "outputs": [
    {
     "name": "stdout",
     "output_type": "stream",
     "text": [
      "Hello, Mary\n"
     ]
    }
   ],
   "source": [
    "print(f\"Hello, {name1}\")"
   ]
  },
  {
   "cell_type": "code",
   "execution_count": 56,
   "id": "bc14b220",
   "metadata": {},
   "outputs": [],
   "source": [
    "name2 =\"Sam\"\n",
    "age = 30"
   ]
  },
  {
   "cell_type": "code",
   "execution_count": 57,
   "id": "16c691c3",
   "metadata": {},
   "outputs": [
    {
     "name": "stdout",
     "output_type": "stream",
     "text": [
      "Sam is 30 years old\n"
     ]
    }
   ],
   "source": [
    "print(f\"{name2} is {age} years old\")"
   ]
  },
  {
   "cell_type": "code",
   "execution_count": null,
   "id": "dccaa5b0",
   "metadata": {},
   "outputs": [],
   "source": []
  },
  {
   "cell_type": "code",
   "execution_count": null,
   "id": "c0c4ac74",
   "metadata": {},
   "outputs": [],
   "source": []
  },
  {
   "cell_type": "code",
   "execution_count": null,
   "id": "d67a649d",
   "metadata": {},
   "outputs": [],
   "source": []
  }
 ],
 "metadata": {
  "kernelspec": {
   "display_name": "Python 3 (ipykernel)",
   "language": "python",
   "name": "python3"
  },
  "language_info": {
   "codemirror_mode": {
    "name": "ipython",
    "version": 3
   },
   "file_extension": ".py",
   "mimetype": "text/x-python",
   "name": "python",
   "nbconvert_exporter": "python",
   "pygments_lexer": "ipython3",
   "version": "3.11.0"
  }
 },
 "nbformat": 4,
 "nbformat_minor": 5
}
