{
 "cells": [
  {
   "cell_type": "code",
   "execution_count": 24,
   "id": "86bcbecc",
   "metadata": {},
   "outputs": [],
   "source": [
    "import pandas as pd"
   ]
  },
  {
   "cell_type": "code",
   "execution_count": 50,
   "id": "153d762d",
   "metadata": {},
   "outputs": [
    {
     "data": {
      "text/html": [
       "<div>\n",
       "<style scoped>\n",
       "    .dataframe tbody tr th:only-of-type {\n",
       "        vertical-align: middle;\n",
       "    }\n",
       "\n",
       "    .dataframe tbody tr th {\n",
       "        vertical-align: top;\n",
       "    }\n",
       "\n",
       "    .dataframe thead th {\n",
       "        text-align: right;\n",
       "    }\n",
       "</style>\n",
       "<table border=\"1\" class=\"dataframe\">\n",
       "  <thead>\n",
       "    <tr style=\"text-align: right;\">\n",
       "      <th></th>\n",
       "      <th>Year</th>\n",
       "      <th>Actor</th>\n",
       "      <th>Director</th>\n",
       "      <th>Box Office</th>\n",
       "      <th>Budget</th>\n",
       "      <th>Bond Actor Salary</th>\n",
       "    </tr>\n",
       "    <tr>\n",
       "      <th>Film</th>\n",
       "      <th></th>\n",
       "      <th></th>\n",
       "      <th></th>\n",
       "      <th></th>\n",
       "      <th></th>\n",
       "      <th></th>\n",
       "    </tr>\n",
       "  </thead>\n",
       "  <tbody>\n",
       "    <tr>\n",
       "      <th>Dr. No</th>\n",
       "      <td>1962</td>\n",
       "      <td>Sean Connery</td>\n",
       "      <td>Terence Young</td>\n",
       "      <td>448.8</td>\n",
       "      <td>7.0</td>\n",
       "      <td>0.6</td>\n",
       "    </tr>\n",
       "  </tbody>\n",
       "</table>\n",
       "</div>"
      ],
      "text/plain": [
       "        Year         Actor       Director  Box Office  Budget  \\\n",
       "Film                                                            \n",
       "Dr. No  1962  Sean Connery  Terence Young       448.8     7.0   \n",
       "\n",
       "        Bond Actor Salary  \n",
       "Film                       \n",
       "Dr. No                0.6  "
      ]
     },
     "execution_count": 50,
     "metadata": {},
     "output_type": "execute_result"
    }
   ],
   "source": [
    "bond=pd.read_csv(\"jamesbond.csv\", index_col=\"Film\")\n",
    "bond.head(1)"
   ]
  },
  {
   "cell_type": "code",
   "execution_count": 44,
   "id": "96a828ed",
   "metadata": {},
   "outputs": [],
   "source": [
    "actorIS = bond[\"Actor\"] == \"Sean Connery\"\n",
    "#one type of changing all the values "
   ]
  },
  {
   "cell_type": "code",
   "execution_count": 41,
   "id": "b14c9670",
   "metadata": {},
   "outputs": [],
   "source": [
    "Sean_Connery = bond.query(\"Actor == 'Sean Connery'\")\n",
    "#selecting with query"
   ]
  },
  {
   "cell_type": "code",
   "execution_count": 46,
   "id": "eefd0cc1",
   "metadata": {},
   "outputs": [],
   "source": [
    "bond.loc[actorIS, \"Actor\"] = \"Sir Sean Connery\"\n",
    "#change name to another name"
   ]
  },
  {
   "cell_type": "code",
   "execution_count": 56,
   "id": "c6695809",
   "metadata": {},
   "outputs": [],
   "source": [
    "bond.rename(mapper =  {\"GoldenEye\" : \"Golden Eye\"}, inplace = True)\n",
    "#rename with mapper"
   ]
  },
  {
   "cell_type": "code",
   "execution_count": 58,
   "id": "245c25bf",
   "metadata": {},
   "outputs": [],
   "source": [
    "bond.rename(columns={\"Year\" : \"Release Date\"}, inplace = True)\n",
    "#rename column"
   ]
  },
  {
   "cell_type": "code",
   "execution_count": 60,
   "id": "125eb752",
   "metadata": {},
   "outputs": [],
   "source": [
    "#rename all columns \n",
    "#bond.columns = ['1', '2', '3', '4', '5',\"6\"]"
   ]
  },
  {
   "cell_type": "code",
   "execution_count": null,
   "id": "5fda26e5",
   "metadata": {},
   "outputs": [],
   "source": [
    "# bond.drop([\"A View to a Kill\", \"Casino Royal\"], inplace=True)\n",
    "#delete rows"
   ]
  },
  {
   "cell_type": "code",
   "execution_count": null,
   "id": "8d6a2f02",
   "metadata": {},
   "outputs": [],
   "source": [
    "#bond.drop([\"Box Office\", \"Actor\"], axis =\"columns\", inplace=True)"
   ]
  },
  {
   "cell_type": "code",
   "execution_count": null,
   "id": "199b377a",
   "metadata": {},
   "outputs": [],
   "source": [
    "#bond.pop(\"Actor\")\n",
    "#actor = bond.pop(\"Actor\") STORES the deleted from DF column to another DF"
   ]
  },
  {
   "cell_type": "code",
   "execution_count": 64,
   "id": "6b56039f",
   "metadata": {},
   "outputs": [],
   "source": [
    "# del bond[Director]"
   ]
  },
  {
   "cell_type": "code",
   "execution_count": null,
   "id": "c2a95aca",
   "metadata": {},
   "outputs": [],
   "source": []
  },
  {
   "cell_type": "code",
   "execution_count": null,
   "id": "25a88dd3",
   "metadata": {},
   "outputs": [],
   "source": []
  },
  {
   "cell_type": "code",
   "execution_count": null,
   "id": "da1f534d",
   "metadata": {},
   "outputs": [],
   "source": []
  },
  {
   "cell_type": "code",
   "execution_count": null,
   "id": "d13ede8e",
   "metadata": {},
   "outputs": [],
   "source": []
  },
  {
   "cell_type": "code",
   "execution_count": null,
   "id": "a806e366",
   "metadata": {},
   "outputs": [],
   "source": []
  }
 ],
 "metadata": {
  "kernelspec": {
   "display_name": "Python 3 (ipykernel)",
   "language": "python",
   "name": "python3"
  },
  "language_info": {
   "codemirror_mode": {
    "name": "ipython",
    "version": 3
   },
   "file_extension": ".py",
   "mimetype": "text/x-python",
   "name": "python",
   "nbconvert_exporter": "python",
   "pygments_lexer": "ipython3",
   "version": "3.11.0"
  }
 },
 "nbformat": 4,
 "nbformat_minor": 5
}
